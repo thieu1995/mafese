{
 "cells": [
  {
   "cell_type": "code",
   "execution_count": 2,
   "metadata": {
    "pycharm": {
     "is_executing": true,
     "name": "#%%\n"
    }
   },
   "outputs": [],
   "source": [
    "from mafese import get_dataset, Data, MhaSelector"
   ]
  },
  {
   "cell_type": "code",
   "execution_count": 3,
   "metadata": {
    "pycharm": {
     "name": "#%%\n"
    }
   },
   "outputs": [
    {
     "name": "stdout",
     "output_type": "stream",
     "text": [
      "MAFESE currently does not have 'gauss-100-10' data in its database....\n",
      "Enter 1 to see the available datasets: 1\n",
      "+ For classification problem. We support datasets:\n",
      "\t1: aggregation\n",
      "\t2: aniso\n",
      "\t3: appendicitis\n",
      "\t4: Arrhythmia\n",
      "\t5: balance\n",
      "\t6: banknote\n",
      "\t7: blobs\n",
      "\t8: Blood\n",
      "\t9: BreastCancer\n",
      "\t10: BreastEW\n",
      "\t11: circles\n",
      "\t12: CongressEW\n",
      "\t13: diagnosis_II\n",
      "\t14: Digits\n",
      "\t15: ecoli\n",
      "\t16: Exactly\n",
      "\t17: Exactly2\n",
      "\t18: flame\n",
      "\t19: Glass\n",
      "\t20: heart\n",
      "\t21: HeartEW\n",
      "\t22: Hill-valley\n",
      "\t23: Horse\n",
      "\t24: Ionosphere\n",
      "\t25: Iris\n",
      "\t26: iris2D\n",
      "\t27: jain\n",
      "\t28: KrVsKpEW\n",
      "\t29: liver\n",
      "\t30: Lymphography\n",
      "\t31: M-of-n\n",
      "\t32: Madelon\n",
      "\t33: Monk1\n",
      "\t34: Monk2\n",
      "\t35: Monk3\n",
      "\t36: moons\n",
      "\t37: mouse\n",
      "\t38: pathbased\n",
      "\t39: PenglungEW\n",
      "\t40: seeds\n",
      "\t41: smiley\n",
      "\t42: Sonar\n",
      "\t43: Soybean-small\n",
      "\t44: SpectEW\n",
      "\t45: Tic-tac-toe\n",
      "\t46: varied\n",
      "\t47: vary-density\n",
      "\t48: vertebral2\n",
      "\t49: Vote\n",
      "\t50: Vowel\n",
      "\t51: WaveformEW\n",
      "\t52: wdbc\n",
      "\t53: Wine\n",
      "\t54: Zoo\n",
      "+ For regression problem. We support datasets:\n",
      "\t1: boston-housing\n",
      "\t2: computer-hardware\n",
      "\t3: diabetes\n",
      "\t4: gauss-100-20\n",
      "\t5: gauss-50-12\n",
      "\t6: gauss-75-17\n",
      "\t7: linnerud\n"
     ]
    }
   ],
   "source": [
    "data = get_dataset(\"gauss-100-10\")"
   ]
  },
  {
   "cell_type": "code",
   "execution_count": 4,
   "metadata": {
    "pycharm": {
     "name": "#%%\n"
    }
   },
   "outputs": [
    {
     "name": "stdout",
     "output_type": "stream",
     "text": [
      "Requested REGRESSION dataset: gauss-100-20 found and loaded!\n"
     ]
    }
   ],
   "source": [
    "data = get_dataset(\"gauss-100-20\")\n",
    "data.split_train_test(test_size=0.2)"
   ]
  },
  {
   "cell_type": "markdown",
   "metadata": {
    "pycharm": {
     "name": "#%% md\n"
    }
   },
   "source": [
    "# To get informations, do the same as example in classification.\n",
    "\n",
    "Now we go straight into how to use MhaSelector for Regression problem\n"
   ]
  },
  {
   "cell_type": "markdown",
   "metadata": {
    "pycharm": {
     "name": "#%% md\n"
    }
   },
   "source": [
    "### 2. Define an instance of MhaSelector"
   ]
  },
  {
   "cell_type": "code",
   "execution_count": 5,
   "metadata": {
    "pycharm": {
     "name": "#%%\n"
    }
   },
   "outputs": [],
   "source": [
    "feat_selector = MhaSelector(problem=\"regression\", obj_name=\"MSE\", \n",
    "                            estimator=\"knn\", estimator_paras={\"n_neighbors\": 5},\n",
    "                            optimizer=\"BaseGA\", optimizer_paras={\"name\": \"GA\", \"epoch\": 30, \"pop_size\": 20},\n",
    "                            mode='single', n_workers=None, termination=None, seed=42, verbose=True)"
   ]
  },
  {
   "cell_type": "markdown",
   "metadata": {
    "pycharm": {
     "name": "#%% md\n"
    }
   },
   "source": [
    "### 3. Train with dataset"
   ]
  },
  {
   "cell_type": "code",
   "execution_count": 6,
   "metadata": {
    "pycharm": {
     "name": "#%%\n"
    }
   },
   "outputs": [
    {
     "name": "stderr",
     "output_type": "stream",
     "text": [
      "2023/07/01 02:03:25 PM, INFO, mealpy.evolutionary_based.GA.BaseGA: Solving 2-objective optimization problem with weights: [1. 0.].\n",
      "2023/07/01 02:03:26 PM, INFO, mealpy.evolutionary_based.GA.BaseGA: >Problem: P, Epoch: 1, Current best: 40561.4151710989, Global best: 40057.448630000006, Runtime: 0.53072 seconds\n",
      "2023/07/01 02:03:27 PM, INFO, mealpy.evolutionary_based.GA.BaseGA: >Problem: P, Epoch: 2, Current best: 42827.593850524085, Global best: 40057.448630000006, Runtime: 0.52990 seconds\n",
      "2023/07/01 02:03:28 PM, INFO, mealpy.evolutionary_based.GA.BaseGA: >Problem: P, Epoch: 3, Current best: 40288.49012173469, Global best: 40057.448630000006, Runtime: 0.53224 seconds\n",
      "2023/07/01 02:03:28 PM, INFO, mealpy.evolutionary_based.GA.BaseGA: >Problem: P, Epoch: 4, Current best: 36865.06591377457, Global best: 36865.06591377457, Runtime: 0.53023 seconds\n",
      "2023/07/01 02:03:29 PM, INFO, mealpy.evolutionary_based.GA.BaseGA: >Problem: P, Epoch: 5, Current best: 34494.43890020061, Global best: 34494.43890020061, Runtime: 0.51168 seconds\n",
      "2023/07/01 02:03:29 PM, INFO, mealpy.evolutionary_based.GA.BaseGA: >Problem: P, Epoch: 6, Current best: 39644.80722876158, Global best: 34494.43890020061, Runtime: 0.52850 seconds\n",
      "2023/07/01 02:03:30 PM, INFO, mealpy.evolutionary_based.GA.BaseGA: >Problem: P, Epoch: 7, Current best: 42132.82326765929, Global best: 34494.43890020061, Runtime: 0.50893 seconds\n",
      "2023/07/01 02:03:30 PM, INFO, mealpy.evolutionary_based.GA.BaseGA: >Problem: P, Epoch: 8, Current best: 45186.594279018966, Global best: 34494.43890020061, Runtime: 0.51186 seconds\n",
      "2023/07/01 02:03:31 PM, INFO, mealpy.evolutionary_based.GA.BaseGA: >Problem: P, Epoch: 9, Current best: 40210.9522267049, Global best: 34494.43890020061, Runtime: 0.51089 seconds\n",
      "2023/07/01 02:03:31 PM, INFO, mealpy.evolutionary_based.GA.BaseGA: >Problem: P, Epoch: 10, Current best: 38553.81147762588, Global best: 34494.43890020061, Runtime: 0.51459 seconds\n",
      "2023/07/01 02:03:32 PM, INFO, mealpy.evolutionary_based.GA.BaseGA: >Problem: P, Epoch: 11, Current best: 41635.02065451977, Global best: 34494.43890020061, Runtime: 0.60349 seconds\n",
      "2023/07/01 02:03:32 PM, INFO, mealpy.evolutionary_based.GA.BaseGA: >Problem: P, Epoch: 12, Current best: 41248.407794513856, Global best: 34494.43890020061, Runtime: 0.59337 seconds\n",
      "2023/07/01 02:03:33 PM, INFO, mealpy.evolutionary_based.GA.BaseGA: >Problem: P, Epoch: 13, Current best: 42722.845534196655, Global best: 34494.43890020061, Runtime: 0.66103 seconds\n",
      "2023/07/01 02:03:34 PM, INFO, mealpy.evolutionary_based.GA.BaseGA: >Problem: P, Epoch: 14, Current best: 44298.463020596784, Global best: 34494.43890020061, Runtime: 0.65803 seconds\n",
      "2023/07/01 02:03:34 PM, INFO, mealpy.evolutionary_based.GA.BaseGA: >Problem: P, Epoch: 15, Current best: 41357.664394680716, Global best: 34494.43890020061, Runtime: 0.66581 seconds\n",
      "2023/07/01 02:03:35 PM, INFO, mealpy.evolutionary_based.GA.BaseGA: >Problem: P, Epoch: 16, Current best: 41491.25281806008, Global best: 34494.43890020061, Runtime: 0.65687 seconds\n",
      "2023/07/01 02:03:36 PM, INFO, mealpy.evolutionary_based.GA.BaseGA: >Problem: P, Epoch: 17, Current best: 40954.08935623664, Global best: 34494.43890020061, Runtime: 0.66277 seconds\n",
      "2023/07/01 02:03:36 PM, INFO, mealpy.evolutionary_based.GA.BaseGA: >Problem: P, Epoch: 18, Current best: 41407.09338435573, Global best: 34494.43890020061, Runtime: 0.65431 seconds\n",
      "2023/07/01 02:03:37 PM, INFO, mealpy.evolutionary_based.GA.BaseGA: >Problem: P, Epoch: 19, Current best: 39551.06222959427, Global best: 34494.43890020061, Runtime: 0.65084 seconds\n",
      "2023/07/01 02:03:38 PM, INFO, mealpy.evolutionary_based.GA.BaseGA: >Problem: P, Epoch: 20, Current best: 42296.77298002583, Global best: 34494.43890020061, Runtime: 0.64083 seconds\n",
      "2023/07/01 02:03:38 PM, INFO, mealpy.evolutionary_based.GA.BaseGA: >Problem: P, Epoch: 21, Current best: 46895.0611200852, Global best: 34494.43890020061, Runtime: 0.64238 seconds\n",
      "2023/07/01 02:03:39 PM, INFO, mealpy.evolutionary_based.GA.BaseGA: >Problem: P, Epoch: 22, Current best: 41919.45684433567, Global best: 34494.43890020061, Runtime: 0.68415 seconds\n",
      "2023/07/01 02:03:40 PM, INFO, mealpy.evolutionary_based.GA.BaseGA: >Problem: P, Epoch: 23, Current best: 46298.67934169005, Global best: 34494.43890020061, Runtime: 0.67564 seconds\n",
      "2023/07/01 02:03:40 PM, INFO, mealpy.evolutionary_based.GA.BaseGA: >Problem: P, Epoch: 24, Current best: 47183.45041189495, Global best: 34494.43890020061, Runtime: 0.66014 seconds\n",
      "2023/07/01 02:03:41 PM, INFO, mealpy.evolutionary_based.GA.BaseGA: >Problem: P, Epoch: 25, Current best: 47183.45041189495, Global best: 34494.43890020061, Runtime: 0.60869 seconds\n",
      "2023/07/01 02:03:42 PM, INFO, mealpy.evolutionary_based.GA.BaseGA: >Problem: P, Epoch: 26, Current best: 47183.45041189495, Global best: 34494.43890020061, Runtime: 0.53302 seconds\n",
      "2023/07/01 02:03:42 PM, INFO, mealpy.evolutionary_based.GA.BaseGA: >Problem: P, Epoch: 27, Current best: 47183.45041189495, Global best: 34494.43890020061, Runtime: 0.53754 seconds\n",
      "2023/07/01 02:03:43 PM, INFO, mealpy.evolutionary_based.GA.BaseGA: >Problem: P, Epoch: 28, Current best: 47183.45041189495, Global best: 34494.43890020061, Runtime: 0.52766 seconds\n",
      "2023/07/01 02:03:43 PM, INFO, mealpy.evolutionary_based.GA.BaseGA: >Problem: P, Epoch: 29, Current best: 47183.45041189495, Global best: 34494.43890020061, Runtime: 0.53008 seconds\n",
      "2023/07/01 02:03:44 PM, INFO, mealpy.evolutionary_based.GA.BaseGA: >Problem: P, Epoch: 30, Current best: 47183.45041189495, Global best: 34494.43890020061, Runtime: 0.51424 seconds\n",
      "2023/07/01 02:03:44 PM, INFO, mealpy.evolutionary_based.GA.BaseGA: >Problem: P, Epoch: 31, Current best: 47183.45041189495, Global best: 34494.43890020061, Runtime: 0.53154 seconds\n",
      "2023/07/01 02:03:45 PM, INFO, mealpy.evolutionary_based.GA.BaseGA: >Problem: P, Epoch: 32, Current best: 47183.45041189495, Global best: 34494.43890020061, Runtime: 0.54032 seconds\n",
      "2023/07/01 02:03:45 PM, INFO, mealpy.evolutionary_based.GA.BaseGA: >Problem: P, Epoch: 33, Current best: 47183.45041189495, Global best: 34494.43890020061, Runtime: 0.51726 seconds\n",
      "2023/07/01 02:03:46 PM, INFO, mealpy.evolutionary_based.GA.BaseGA: >Problem: P, Epoch: 34, Current best: 44114.166481104236, Global best: 34494.43890020061, Runtime: 0.52194 seconds\n",
      "2023/07/01 02:03:46 PM, INFO, mealpy.evolutionary_based.GA.BaseGA: >Problem: P, Epoch: 35, Current best: 46494.34103978959, Global best: 34494.43890020061, Runtime: 0.52875 seconds\n",
      "2023/07/01 02:03:47 PM, INFO, mealpy.evolutionary_based.GA.BaseGA: >Problem: P, Epoch: 36, Current best: 47183.45041189495, Global best: 34494.43890020061, Runtime: 0.53428 seconds\n",
      "2023/07/01 02:03:47 PM, INFO, mealpy.evolutionary_based.GA.BaseGA: >Problem: P, Epoch: 37, Current best: 47183.45041189495, Global best: 34494.43890020061, Runtime: 0.52887 seconds\n",
      "2023/07/01 02:03:48 PM, INFO, mealpy.evolutionary_based.GA.BaseGA: >Problem: P, Epoch: 38, Current best: 47183.45041189495, Global best: 34494.43890020061, Runtime: 0.54204 seconds\n",
      "2023/07/01 02:03:48 PM, INFO, mealpy.evolutionary_based.GA.BaseGA: >Problem: P, Epoch: 39, Current best: 45798.39820599687, Global best: 34494.43890020061, Runtime: 0.52842 seconds\n",
      "2023/07/01 02:03:49 PM, INFO, mealpy.evolutionary_based.GA.BaseGA: >Problem: P, Epoch: 40, Current best: 45508.82489537179, Global best: 34494.43890020061, Runtime: 0.54001 seconds\n",
      "2023/07/01 02:03:50 PM, INFO, mealpy.evolutionary_based.GA.BaseGA: >Problem: P, Epoch: 41, Current best: 43285.97544, Global best: 34494.43890020061, Runtime: 0.52609 seconds\n",
      "2023/07/01 02:03:50 PM, INFO, mealpy.evolutionary_based.GA.BaseGA: >Problem: P, Epoch: 42, Current best: 46251.23929130819, Global best: 34494.43890020061, Runtime: 0.52513 seconds\n",
      "2023/07/01 02:03:51 PM, INFO, mealpy.evolutionary_based.GA.BaseGA: >Problem: P, Epoch: 43, Current best: 45945.9154820884, Global best: 34494.43890020061, Runtime: 0.52062 seconds\n",
      "2023/07/01 02:03:51 PM, INFO, mealpy.evolutionary_based.GA.BaseGA: >Problem: P, Epoch: 44, Current best: 43581.46770765465, Global best: 34494.43890020061, Runtime: 0.52451 seconds\n",
      "2023/07/01 02:03:52 PM, INFO, mealpy.evolutionary_based.GA.BaseGA: >Problem: P, Epoch: 45, Current best: 46804.650160000005, Global best: 34494.43890020061, Runtime: 0.53002 seconds\n"
     ]
    },
    {
     "name": "stderr",
     "output_type": "stream",
     "text": [
      "2023/07/01 02:03:52 PM, INFO, mealpy.evolutionary_based.GA.BaseGA: >Problem: P, Epoch: 46, Current best: 45661.79982178268, Global best: 34494.43890020061, Runtime: 0.53400 seconds\n",
      "2023/07/01 02:03:53 PM, INFO, mealpy.evolutionary_based.GA.BaseGA: >Problem: P, Epoch: 47, Current best: 47064.262259518924, Global best: 34494.43890020061, Runtime: 0.52359 seconds\n",
      "2023/07/01 02:03:53 PM, INFO, mealpy.evolutionary_based.GA.BaseGA: >Problem: P, Epoch: 48, Current best: 47183.45041189495, Global best: 34494.43890020061, Runtime: 0.53243 seconds\n",
      "2023/07/01 02:03:54 PM, INFO, mealpy.evolutionary_based.GA.BaseGA: >Problem: P, Epoch: 49, Current best: 47183.45041189495, Global best: 34494.43890020061, Runtime: 0.52510 seconds\n",
      "2023/07/01 02:03:54 PM, INFO, mealpy.evolutionary_based.GA.BaseGA: >Problem: P, Epoch: 50, Current best: 45137.36265669261, Global best: 34494.43890020061, Runtime: 0.52109 seconds\n",
      "2023/07/01 02:03:55 PM, INFO, mealpy.evolutionary_based.GA.BaseGA: >Problem: P, Epoch: 51, Current best: 47183.45041189495, Global best: 34494.43890020061, Runtime: 0.60921 seconds\n",
      "2023/07/01 02:03:55 PM, INFO, mealpy.evolutionary_based.GA.BaseGA: >Problem: P, Epoch: 52, Current best: 47183.45041189495, Global best: 34494.43890020061, Runtime: 0.52961 seconds\n",
      "2023/07/01 02:03:56 PM, INFO, mealpy.evolutionary_based.GA.BaseGA: >Problem: P, Epoch: 53, Current best: 47183.45041189495, Global best: 34494.43890020061, Runtime: 0.53798 seconds\n",
      "2023/07/01 02:03:57 PM, INFO, mealpy.evolutionary_based.GA.BaseGA: >Problem: P, Epoch: 54, Current best: 47183.45041189495, Global best: 34494.43890020061, Runtime: 0.53504 seconds\n",
      "2023/07/01 02:03:57 PM, INFO, mealpy.evolutionary_based.GA.BaseGA: >Problem: P, Epoch: 55, Current best: 47183.45041189495, Global best: 34494.43890020061, Runtime: 0.54764 seconds\n",
      "2023/07/01 02:03:58 PM, INFO, mealpy.evolutionary_based.GA.BaseGA: >Problem: P, Epoch: 56, Current best: 47183.45041189495, Global best: 34494.43890020061, Runtime: 0.53576 seconds\n",
      "2023/07/01 02:03:58 PM, INFO, mealpy.evolutionary_based.GA.BaseGA: >Problem: P, Epoch: 57, Current best: 47183.45041189495, Global best: 34494.43890020061, Runtime: 0.52525 seconds\n",
      "2023/07/01 02:03:59 PM, INFO, mealpy.evolutionary_based.GA.BaseGA: >Problem: P, Epoch: 58, Current best: 47183.45041189495, Global best: 34494.43890020061, Runtime: 0.53279 seconds\n",
      "2023/07/01 02:03:59 PM, INFO, mealpy.evolutionary_based.GA.BaseGA: >Problem: P, Epoch: 59, Current best: 47183.45041189495, Global best: 34494.43890020061, Runtime: 0.52509 seconds\n",
      "2023/07/01 02:04:00 PM, INFO, mealpy.evolutionary_based.GA.BaseGA: >Problem: P, Epoch: 60, Current best: 47183.45041189495, Global best: 34494.43890020061, Runtime: 0.51720 seconds\n",
      "2023/07/01 02:04:00 PM, INFO, mealpy.evolutionary_based.GA.BaseGA: >Problem: P, Epoch: 61, Current best: 47183.45041189495, Global best: 34494.43890020061, Runtime: 0.52954 seconds\n",
      "2023/07/01 02:04:01 PM, INFO, mealpy.evolutionary_based.GA.BaseGA: >Problem: P, Epoch: 62, Current best: 46617.03867826815, Global best: 34494.43890020061, Runtime: 0.53022 seconds\n",
      "2023/07/01 02:04:01 PM, INFO, mealpy.evolutionary_based.GA.BaseGA: >Problem: P, Epoch: 63, Current best: 47133.89745085557, Global best: 34494.43890020061, Runtime: 0.52459 seconds\n",
      "2023/07/01 02:04:02 PM, INFO, mealpy.evolutionary_based.GA.BaseGA: >Problem: P, Epoch: 64, Current best: 42817.7272725291, Global best: 34494.43890020061, Runtime: 0.52517 seconds\n",
      "2023/07/01 02:04:02 PM, INFO, mealpy.evolutionary_based.GA.BaseGA: >Problem: P, Epoch: 65, Current best: 43775.052090541394, Global best: 34494.43890020061, Runtime: 0.52989 seconds\n",
      "2023/07/01 02:04:03 PM, INFO, mealpy.evolutionary_based.GA.BaseGA: >Problem: P, Epoch: 66, Current best: 42938.88008335812, Global best: 34494.43890020061, Runtime: 0.52981 seconds\n",
      "2023/07/01 02:04:03 PM, INFO, mealpy.evolutionary_based.GA.BaseGA: >Problem: P, Epoch: 67, Current best: 43660.73435098048, Global best: 34494.43890020061, Runtime: 0.49733 seconds\n",
      "2023/07/01 02:04:04 PM, INFO, mealpy.evolutionary_based.GA.BaseGA: >Problem: P, Epoch: 68, Current best: 41213.24923266945, Global best: 34494.43890020061, Runtime: 0.51664 seconds\n",
      "2023/07/01 02:04:04 PM, INFO, mealpy.evolutionary_based.GA.BaseGA: >Problem: P, Epoch: 69, Current best: 40649.01148, Global best: 34494.43890020061, Runtime: 0.53280 seconds\n",
      "2023/07/01 02:04:05 PM, INFO, mealpy.evolutionary_based.GA.BaseGA: >Problem: P, Epoch: 70, Current best: 38317.80929269227, Global best: 34494.43890020061, Runtime: 0.52047 seconds\n",
      "2023/07/01 02:04:06 PM, INFO, mealpy.evolutionary_based.GA.BaseGA: >Problem: P, Epoch: 71, Current best: 42295.26611, Global best: 34494.43890020061, Runtime: 0.50977 seconds\n",
      "2023/07/01 02:04:06 PM, INFO, mealpy.evolutionary_based.GA.BaseGA: >Problem: P, Epoch: 72, Current best: 42764.08771287233, Global best: 34494.43890020061, Runtime: 0.52569 seconds\n",
      "2023/07/01 02:04:07 PM, INFO, mealpy.evolutionary_based.GA.BaseGA: >Problem: P, Epoch: 73, Current best: 38312.81534078995, Global best: 34494.43890020061, Runtime: 0.51288 seconds\n",
      "2023/07/01 02:04:07 PM, INFO, mealpy.evolutionary_based.GA.BaseGA: >Problem: P, Epoch: 74, Current best: 43855.80637961975, Global best: 34494.43890020061, Runtime: 0.51881 seconds\n",
      "2023/07/01 02:04:08 PM, INFO, mealpy.evolutionary_based.GA.BaseGA: >Problem: P, Epoch: 75, Current best: 41319.80688461881, Global best: 34494.43890020061, Runtime: 0.51353 seconds\n",
      "2023/07/01 02:04:08 PM, INFO, mealpy.evolutionary_based.GA.BaseGA: >Problem: P, Epoch: 76, Current best: 38943.08793780832, Global best: 34494.43890020061, Runtime: 0.51704 seconds\n",
      "2023/07/01 02:04:09 PM, INFO, mealpy.evolutionary_based.GA.BaseGA: >Problem: P, Epoch: 77, Current best: 40769.46490587964, Global best: 34494.43890020061, Runtime: 0.52157 seconds\n",
      "2023/07/01 02:04:09 PM, INFO, mealpy.evolutionary_based.GA.BaseGA: >Problem: P, Epoch: 78, Current best: 40215.505692197796, Global best: 34494.43890020061, Runtime: 0.57912 seconds\n",
      "2023/07/01 02:04:10 PM, INFO, mealpy.evolutionary_based.GA.BaseGA: >Problem: P, Epoch: 79, Current best: 41194.49441, Global best: 34494.43890020061, Runtime: 0.81745 seconds\n",
      "2023/07/01 02:04:11 PM, INFO, mealpy.evolutionary_based.GA.BaseGA: >Problem: P, Epoch: 80, Current best: 39728.15763421288, Global best: 34494.43890020061, Runtime: 0.80328 seconds\n",
      "2023/07/01 02:04:12 PM, INFO, mealpy.evolutionary_based.GA.BaseGA: >Problem: P, Epoch: 81, Current best: 41607.53925831678, Global best: 34494.43890020061, Runtime: 0.79559 seconds\n",
      "2023/07/01 02:04:12 PM, INFO, mealpy.evolutionary_based.GA.BaseGA: >Problem: P, Epoch: 82, Current best: 40965.19934093275, Global best: 34494.43890020061, Runtime: 0.81704 seconds\n",
      "2023/07/01 02:04:13 PM, INFO, mealpy.evolutionary_based.GA.BaseGA: >Problem: P, Epoch: 83, Current best: 36822.43464391499, Global best: 34494.43890020061, Runtime: 0.83488 seconds\n",
      "2023/07/01 02:04:14 PM, INFO, mealpy.evolutionary_based.GA.BaseGA: >Problem: P, Epoch: 84, Current best: 38792.066220158515, Global best: 34494.43890020061, Runtime: 0.80668 seconds\n",
      "2023/07/01 02:04:15 PM, INFO, mealpy.evolutionary_based.GA.BaseGA: >Problem: P, Epoch: 85, Current best: 36889.518517562254, Global best: 34494.43890020061, Runtime: 0.63036 seconds\n",
      "2023/07/01 02:04:15 PM, INFO, mealpy.evolutionary_based.GA.BaseGA: >Problem: P, Epoch: 86, Current best: 42719.45833079162, Global best: 34494.43890020061, Runtime: 0.51082 seconds\n",
      "2023/07/01 02:04:16 PM, INFO, mealpy.evolutionary_based.GA.BaseGA: >Problem: P, Epoch: 87, Current best: 44648.59935606766, Global best: 34494.43890020061, Runtime: 0.51931 seconds\n",
      "2023/07/01 02:04:16 PM, INFO, mealpy.evolutionary_based.GA.BaseGA: >Problem: P, Epoch: 88, Current best: 42465.93123786389, Global best: 34494.43890020061, Runtime: 0.52926 seconds\n",
      "2023/07/01 02:04:17 PM, INFO, mealpy.evolutionary_based.GA.BaseGA: >Problem: P, Epoch: 89, Current best: 40232.691848668845, Global best: 34494.43890020061, Runtime: 0.51593 seconds\n",
      "2023/07/01 02:04:17 PM, INFO, mealpy.evolutionary_based.GA.BaseGA: >Problem: P, Epoch: 90, Current best: 44792.24233062206, Global best: 34494.43890020061, Runtime: 0.51488 seconds\n",
      "2023/07/01 02:04:18 PM, INFO, mealpy.evolutionary_based.GA.BaseGA: >Problem: P, Epoch: 91, Current best: 40325.543531620795, Global best: 34494.43890020061, Runtime: 0.51345 seconds\n"
     ]
    },
    {
     "name": "stderr",
     "output_type": "stream",
     "text": [
      "2023/07/01 02:04:18 PM, INFO, mealpy.evolutionary_based.GA.BaseGA: >Problem: P, Epoch: 92, Current best: 38997.99019290777, Global best: 34494.43890020061, Runtime: 0.50178 seconds\n",
      "2023/07/01 02:04:19 PM, INFO, mealpy.evolutionary_based.GA.BaseGA: >Problem: P, Epoch: 93, Current best: 40586.33967762201, Global best: 34494.43890020061, Runtime: 0.49941 seconds\n",
      "2023/07/01 02:04:19 PM, INFO, mealpy.evolutionary_based.GA.BaseGA: >Problem: P, Epoch: 94, Current best: 37881.78132305674, Global best: 34494.43890020061, Runtime: 0.50360 seconds\n",
      "2023/07/01 02:04:20 PM, INFO, mealpy.evolutionary_based.GA.BaseGA: >Problem: P, Epoch: 95, Current best: 36001.177613048276, Global best: 34494.43890020061, Runtime: 0.50199 seconds\n",
      "2023/07/01 02:04:20 PM, INFO, mealpy.evolutionary_based.GA.BaseGA: >Problem: P, Epoch: 96, Current best: 42241.72832838034, Global best: 34494.43890020061, Runtime: 0.54795 seconds\n",
      "2023/07/01 02:04:21 PM, INFO, mealpy.evolutionary_based.GA.BaseGA: >Problem: P, Epoch: 97, Current best: 43323.39237273667, Global best: 34494.43890020061, Runtime: 0.83488 seconds\n",
      "2023/07/01 02:04:22 PM, INFO, mealpy.evolutionary_based.GA.BaseGA: >Problem: P, Epoch: 98, Current best: 40368.548011249244, Global best: 34494.43890020061, Runtime: 0.64176 seconds\n",
      "2023/07/01 02:04:22 PM, INFO, mealpy.evolutionary_based.GA.BaseGA: >Problem: P, Epoch: 99, Current best: 41072.91213986589, Global best: 34494.43890020061, Runtime: 0.51888 seconds\n",
      "2023/07/01 02:04:23 PM, INFO, mealpy.evolutionary_based.GA.BaseGA: >Problem: P, Epoch: 100, Current best: 44049.92509221223, Global best: 34494.43890020061, Runtime: 0.51794 seconds\n"
     ]
    }
   ],
   "source": [
    "feat_selector.fit(data.X_train, data.y_train)"
   ]
  },
  {
   "cell_type": "markdown",
   "metadata": {
    "pycharm": {
     "name": "#%% md\n"
    }
   },
   "source": [
    "### 4. Transform the dataset"
   ]
  },
  {
   "cell_type": "code",
   "execution_count": 7,
   "metadata": {
    "pycharm": {
     "name": "#%%\n"
    }
   },
   "outputs": [
    {
     "name": "stdout",
     "output_type": "stream",
     "text": [
      "Original Dataset: (800, 100)\n",
      "Selected dataset: (200, 39)\n"
     ]
    }
   ],
   "source": [
    "X_selected = feat_selector.transform(data.X_test)\n",
    "print(f\"Original Dataset: {data.X_train.shape}\")        \n",
    "print(f\"Selected dataset: {X_selected.shape}\")   "
   ]
  },
  {
   "cell_type": "markdown",
   "metadata": {
    "pycharm": {
     "name": "#%% md\n"
    }
   },
   "source": [
    "### 5. Get some informations"
   ]
  },
  {
   "cell_type": "code",
   "execution_count": 8,
   "metadata": {
    "pycharm": {
     "name": "#%%\n"
    }
   },
   "outputs": [
    {
     "name": "stdout",
     "output_type": "stream",
     "text": [
      "{'obj': 38327.0934, 'fit': 34494.43890020061}\n",
      "[ True  True False  True False False False  True False False False  True\n",
      "  True False  True False False  True False False False  True False False\n",
      " False False False  True False False False False False  True  True False\n",
      " False False False  True  True False False  True False  True  True  True\n",
      " False  True False False  True  True False  True  True False  True False\n",
      "  True False  True  True False  True  True  True False False False False\n",
      "  True  True False  True  True False  True False False False False False\n",
      " False False  True  True  True False False False False False False False\n",
      " False False False  True]\n",
      "[1 1 0 1 0 0 0 1 0 0 0 1 1 0 1 0 0 1 0 0 0 1 0 0 0 0 0 1 0 0 0 0 0 1 1 0 0\n",
      " 0 0 1 1 0 0 1 0 1 1 1 0 1 0 0 1 1 0 1 1 0 1 0 1 0 1 1 0 1 1 1 0 0 0 0 1 1\n",
      " 0 1 1 0 1 0 0 0 0 0 0 0 1 1 1 0 0 0 0 0 0 0 0 0 0 1]\n",
      "[ 0  1  3  7 11 12 14 17 21 27 33 34 39 40 43 45 46 47 49 52 53 55 56 58\n",
      " 60 62 63 65 66 67 72 73 75 76 78 86 87 88 99]\n"
     ]
    }
   ],
   "source": [
    "print(feat_selector.get_best_obj_and_fit())            \n",
    "print(feat_selector.selected_feature_masks)\n",
    "print(feat_selector.selected_feature_solution)\n",
    "print(feat_selector.selected_feature_indexes)"
   ]
  },
  {
   "cell_type": "markdown",
   "metadata": {
    "pycharm": {
     "name": "#%% md\n"
    }
   },
   "source": [
    "### 6. Retrain and evaluate our final dataset"
   ]
  },
  {
   "cell_type": "markdown",
   "metadata": {
    "pycharm": {
     "name": "#%% md\n"
    }
   },
   "source": [
    "### 6.1 Use the same model as feature selector to evaluate final dataset."
   ]
  },
  {
   "cell_type": "code",
   "execution_count": null,
   "outputs": [],
   "source": [
    "res1 = feat_selector.evaluate(estimator=None, estimator_paras=None, data=data, metrics=[\"MAE\", \"RMSE\", \"R2\"])\n",
    "print(res1)"
   ],
   "metadata": {
    "collapsed": false,
    "pycharm": {
     "name": "#%%\n"
    }
   }
  },
  {
   "cell_type": "markdown",
   "source": [
    "### 6.2 But I want to use different model to evaluate final dataset"
   ],
   "metadata": {
    "collapsed": false,
    "pycharm": {
     "name": "#%% md\n"
    }
   }
  },
  {
   "cell_type": "code",
   "execution_count": null,
   "outputs": [],
   "source": [
    "from sklearn.svm import SVR\n",
    "\n",
    "res2 = feat_selector.evaluate(estimator=SVR(), data=data, metrics=[\"MAE\", \"RMSE\", \"R2\"])\n",
    "print(res2)"
   ],
   "metadata": {
    "collapsed": false,
    "pycharm": {
     "name": "#%%\n"
    }
   }
  }
 ],
 "metadata": {
  "kernelspec": {
   "display_name": "Python 3 (ipykernel)",
   "language": "python",
   "name": "python3"
  },
  "language_info": {
   "codemirror_mode": {
    "name": "ipython",
    "version": 3
   },
   "file_extension": ".py",
   "mimetype": "text/x-python",
   "name": "python",
   "nbconvert_exporter": "python",
   "pygments_lexer": "ipython3",
   "version": "3.8.5"
  }
 },
 "nbformat": 4,
 "nbformat_minor": 1
}
